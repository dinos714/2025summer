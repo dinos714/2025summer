{
 "cells": [
  {
   "cell_type": "markdown",
   "metadata": {
    "colab_type": "text",
    "id": "view-in-github"
   },
   "source": [
    "<a href=\"https://colab.research.google.com/github/rll/deepul/blob/master/homeworks/hw3/hw3.ipynb\" target=\"_parent\"><img src=\"https://colab.research.google.com/assets/colab-badge.svg\" alt=\"Open In Colab\"/></a>"
   ]
  },
  {
   "cell_type": "markdown",
   "metadata": {
    "colab_type": "text",
    "id": "VtqwhK9q9D-h"
   },
   "source": [
    "# Getting Started\n",
    "\n",
    "## Overview\n",
    "This semester, all homeworks will be conducted through Google Colab notebooks. All code for the homework assignment will be written and run in this notebook. Running in Colab will automatically provide a GPU, but you may also run this notebook locally by following [these instructions](https://research.google.com/colaboratory/local-runtimes.html) if you wish to use your own GPU.\n",
    "\n",
    "You will save images in the notebooks to use and fill out a given LaTeX template which will be submitted to Gradescope, along with your notebook code.\n",
    "\n",
    "## Using Colab\n",
    "On the left-hand side, you can click the different icons to see a Table of Contents of the assignment, as well as local files accessible through the notebook.\n",
    "\n",
    "Make sure to go to **Runtime -> Change runtime type** and select **GPU** as the hardware accelerator. This allows you to use a GPU. Run the cells below to get started on the assignment. Note that a session is open for a maximum of 12 hours, and using too much GPU compute may result in restricted access for a short period of time. Please start the homework early so you have ample time to work.\n",
    "\n",
    "**If you loaded this notebook from clicking \"Open in Colab\" from github, you will need to save it to your own Google Drive to keep your work.**\n",
    "\n",
    "## General Tips\n",
    "In each homework problem, you will implement a GAN model and run it on a dataset. We provide the expected outputs to help as a sanity check.\n",
    "\n",
    "Feel free to print whatever output (e.g. debugging code, training code, etc) you want, as the graded submission will be the submitted pdf with images.\n",
    "\n",
    "After you complete the assignment, download all of the image outputted in the results/ folder and upload them to the figure folder in the given latex template.\n",
    "\n",
    "Run the cells below to download and load up the starter code."
   ]
  },
  {
   "cell_type": "code",
   "execution_count": null,
   "metadata": {
    "colab": {
     "base_uri": "https://localhost:8080/",
     "height": 272
    },
    "colab_type": "code",
    "id": "sfd-DkFA9AWI",
    "outputId": "049b39df-18bc-446c-cfdd-87032c1ffa28"
   },
   "outputs": [],
   "source": [
    "!if [ -d deepul ]; then rm -Rf deepul; fi\n",
    "!git clone https://github.com/rll/deepul.git \n",
    "!pip install ./deepul"
   ]
  },
  {
   "cell_type": "code",
   "execution_count": null,
   "metadata": {
    "colab": {},
    "colab_type": "code",
    "id": "QSb6D-qQ9W7L"
   },
   "outputs": [],
   "source": [
    "from deepul.hw3_helper import *\n",
    "import deepul.pytorch_util as ptu\n",
    "import warnings\n",
    "warnings.filterwarnings('ignore')"
   ]
  },
  {
   "cell_type": "code",
   "execution_count": null,
   "metadata": {
    "colab": {},
    "colab_type": "code",
    "id": "HKw4PzHd6bQs"
   },
   "outputs": [],
   "source": [
    "ptu.set_gpu_mode(True)"
   ]
  },
  {
   "cell_type": "markdown",
   "metadata": {
    "colab_type": "text",
    "id": "vYa4i0uxspaA"
   },
   "source": [
    "# Question 1: Warmup [20pt]\n",
    "\n",
    "In this question, we will train different variants of GANs on an easy 1D dataset. \n",
    "\n",
    "Execute the cell below to visualize our datasets."
   ]
  },
  {
   "cell_type": "code",
   "execution_count": null,
   "metadata": {
    "colab": {
     "base_uri": "https://localhost:8080/",
     "height": 265
    },
    "colab_type": "code",
    "id": "Fb5MioT8SZzN",
    "outputId": "957a27c4-45b0-4a65-f6db-0d339e02648c"
   },
   "outputs": [],
   "source": [
    "visualize_q1_dataset()"
   ]
  },
  {
   "cell_type": "code",
   "execution_count": null,
   "metadata": {
    "colab": {},
    "colab_type": "code",
    "id": "osR7PW_NLRu-"
   },
   "outputs": [],
   "source": [
    "import numpy as np\n",
    "import matplotlib.pyplot as plt\n",
    "import torch\n",
    "import torch.nn as nn\n",
    "import torch.nn.functional as F\n",
    "import torch.utils.data as data\n",
    "import torch.optim as optim\n",
    "from scipy.stats import norm\n",
    "from tqdm import trange, tqdm_notebook"
   ]
  },
  {
   "cell_type": "markdown",
   "metadata": {
    "colab_type": "text",
    "id": "WSOkSmHSL2c3"
   },
   "source": [
    "## Part 1(a)\n",
    "In this part, we'll train our generator and discriminator via the original minimax GAN objective:\n",
    "<insert GAN Objective here>\n",
    "$$min_{G} max_{D} \\mathbb{E}_{x \\sim p_{data}} [\\log D(x)] + \\mathbb{E}_{z \\sim p(z)}[\\log (1-D(G(z)))]$$\n",
    "\n",
    "Use an MLP for both your generator and your discriminator, and train until the generated distribution resembles the target distribution. \n",
    "* 3 layers\n",
    "* 128 hidden dim\n",
    "* LeakyReLU nonlinearities with negative_slope=0.2"
   ]
  },
  {
   "cell_type": "markdown",
   "metadata": {
    "colab_type": "text",
    "id": "rKl7kyUPwPSJ"
   },
   "source": [
    "### Solution"
   ]
  },
  {
   "cell_type": "code",
   "execution_count": null,
   "metadata": {},
   "outputs": [],
   "source": [
    "class MLPG(nn.Module):\n",
    "    def __init__(self, input_dim=16, hidden_dim=128, output_dim=1):\n",
    "        super().__init__()\n",
    "        self.net = nn.Sequential(\n",
    "            nn.Linear(input_dim, hidden_dim),\n",
    "            nn.LeakyReLU(0.2),\n",
    "            nn.Linear(hidden_dim, hidden_dim),\n",
    "            nn.LeakyReLU(0.2),\n",
    "            nn.Linear(hidden_dim, output_dim),\n",
    "            nn.Tanh()\n",
    "        )\n",
    "\n",
    "    def forward(self, x):\n",
    "        return self.net(x)\n",
    "\n",
    "class MLPD(nn.Module):\n",
    "    def __init__(self, input_dim=1, hidden_dim=128, output_dim=1):\n",
    "        super().__init__()\n",
    "        self.net = nn.Sequential(\n",
    "            nn.Linear(input_dim, hidden_dim),\n",
    "            nn.LeakyReLU(0.2),\n",
    "            nn.Linear(hidden_dim, hidden_dim),\n",
    "            nn.LeakyReLU(0.2),\n",
    "            nn.Linear(hidden_dim, output_dim),\n",
    "            nn.Sigmoid()\n",
    "        )\n",
    "\n",
    "    def forward(self, x):\n",
    "        return self.net(x)"
   ]
  },
  {
   "cell_type": "code",
   "execution_count": null,
   "metadata": {
    "colab": {},
    "colab_type": "code",
    "id": "pfyB3DFgKfA5"
   },
   "outputs": [],
   "source": [
    "def q1_a(train_data):\n",
    "    \"\"\"\n",
    "    train_data: An (20000, 1) numpy array of floats in [-1, 1]\n",
    "\n",
    "    Returns\n",
    "    - a (# of training iterations,) numpy array of discriminator losses evaluated every minibatch\n",
    "    - a numpy array of size (5000,) of samples drawn from your model at epoch #1\n",
    "    - a numpy array of size (1000,) linearly spaced from [-1, 1]; hint: np.linspace\n",
    "    - a numpy array of size (1000,), corresponding to the discriminator output (after sigmoid) \n",
    "        at each location in the previous array at epoch #1\n",
    "\n",
    "    - a numpy array of size (5000,) of samples drawn from your model at the end of training\n",
    "    - a numpy array of size (1000,) linearly spaced from [-1, 1]; hint: np.linspace\n",
    "    - a numpy array of size (1000,), corresponding to the discriminator output (after sigmoid) \n",
    "        at each location in the previous array at the end of training\n",
    "    \"\"\"\n",
    "\n",
    "    \"\"\" YOUR CODE HERE \"\"\"\n",
    "    device = torch.device(\"cuda\" if torch.cuda.is_available() else \"cpu\")\n",
    "\n",
    "    batch_size = 64\n",
    "    epochs = 25\n",
    "    g_lr = 1e-4\n",
    "    d_lr = 1e-4\n",
    "\n",
    "    train_tensor = torch.tensor(train_data, dtype=torch.float32).to(device)\n",
    "    train_dataset = data.DataLoader(data.TensorDataset(train_tensor), batch_size=batch_size, shuffle=True)\n",
    "\n",
    "    generator = MLPG(input_dim=16, hidden_dim=128, output_dim=1).to(device)\n",
    "    discriminator = MLPD(input_dim=1, hidden_dim=128, output_dim=1).to(device)\n",
    "    g_optimizer = optim.Adam(generator.parameters(), lr=g_lr)\n",
    "    d_optimizer = optim.Adam(discriminator.parameters(), lr=d_lr)\n",
    "    criterion = nn.BCELoss()\n",
    "\n",
    "    d_losses = []\n",
    "\n",
    "    for epoch in range(epochs):\n",
    "        for real_data in train_dataset:\n",
    "            real_data = real_data[0].to(device)\n",
    "            noise = torch.randn(real_data.size(0), 16).to(device)\n",
    "            fake_data = generator(noise).detach()\n",
    "\n",
    "            d_optimizer.zero_grad()\n",
    "            d_real = discriminator(real_data)\n",
    "            d_fake = discriminator(fake_data)\n",
    "            real_labels = torch.ones_like(d_real).to(device)\n",
    "            # real_labels = torch.full_like(real_labels, 0.95)  # Label smoothing\n",
    "            fake_labels = torch.zeros_like(d_fake).to(device)\n",
    "            real_loss = criterion(d_real, real_labels)\n",
    "            fake_loss = criterion(d_fake, fake_labels)\n",
    "            d_loss = real_loss + fake_loss\n",
    "            d_losses.append(d_loss.item())\n",
    "            d_loss.backward()\n",
    "            d_optimizer.step()\n",
    "\n",
    "            g_optimizer.zero_grad()\n",
    "            noise = torch.randn(real_data.size(0), 16).to(device)\n",
    "            fake_data = generator(noise)\n",
    "            d_fake = discriminator(fake_data)\n",
    "            g_loss = criterion(d_fake, real_labels)\n",
    "            g_loss.backward()\n",
    "            g_optimizer.step()\n",
    "\n",
    "        if epoch == 0:\n",
    "            generator.eval()\n",
    "            discriminator.eval()\n",
    "            with torch.no_grad():\n",
    "                noise = torch.randn(5000, 16).to(device)\n",
    "                samples_epoch_1 = generator(noise).cpu().numpy().flatten()\n",
    "                x_epoch_1 = np.linspace(-1, 1, 1000, dtype=np.float32)\n",
    "                x_epoch_1_tensor = torch.tensor(x_epoch_1.reshape(-1, 1), dtype=torch.float32).to(device)\n",
    "                d_output_epoch_1 = discriminator(x_epoch_1_tensor).cpu().numpy().flatten()\n",
    "\n",
    "    generator.eval()\n",
    "    discriminator.eval()\n",
    "    with torch.no_grad():\n",
    "        noise = torch.randn(5000, 16).to(device)\n",
    "        samples_final_epoch = generator(noise).cpu().numpy().flatten()\n",
    "        x_final_epoch = np.linspace(-1, 1, 1000, dtype=np.float32)\n",
    "        x_final_epoch_tensor = torch.tensor(x_final_epoch.reshape(-1, 1), dtype=torch.float32).to(device)\n",
    "        d_output_final_epoch = discriminator(x_final_epoch_tensor).cpu().numpy().flatten()\n",
    "\n",
    "    return d_losses, samples_epoch_1, x_epoch_1, d_output_epoch_1, samples_final_epoch, x_final_epoch, d_output_final_epoch"
   ]
  },
  {
   "cell_type": "markdown",
   "metadata": {
    "colab_type": "text",
    "id": "KLrFM7TQwZkC"
   },
   "source": [
    "### Results"
   ]
  },
  {
   "cell_type": "code",
   "execution_count": null,
   "metadata": {
    "colab": {
     "base_uri": "https://localhost:8080/",
     "height": 857,
     "referenced_widgets": [
      "38a7773b80ed4ed188608851c89b5711",
      "f95ac3c7eb334927a732d2ee6373d456",
      "61d329d095bb4ba181f413e3a1f67307",
      "a2a3f3d5ce8a46ffbf1d7c6044469c30",
      "1b3ebe2213874f7bbd7d396d12bf86eb",
      "bd612b9fbdb04c0c9b6fee659e9dccf5",
      "2b68b2c9c5aa468b8be1054118959e73",
      "6e2c5b00de924e4c90f9a0540396458c"
     ]
    },
    "colab_type": "code",
    "id": "icqjV8bEwfst",
    "outputId": "45d45c37-8f55-4181-a01c-c439a947923f"
   },
   "outputs": [],
   "source": [
    "q1_save_results('a', q1_a)"
   ]
  },
  {
   "cell_type": "markdown",
   "metadata": {
    "colab_type": "text",
    "id": "2x4hfHRbZrDT"
   },
   "source": [
    "## Part 1(b)\n",
    "Here, we'll use the non-saturating formulation of the GAN objective. Now, we have two separate objectives:\n",
    "$$L^{(D)} = \\mathbb{E}_{x \\sim p_{data}} [\\log D(x)] + \\mathbb{E}_{z \\sim p(z)}[\\log (1-D(G(z)))]$$\n",
    "$$L^{(G)} = - \\mathbb{E}_{z \\sim p(z)} \\log(D(G(z)))$$"
   ]
  },
  {
   "cell_type": "markdown",
   "metadata": {
    "colab_type": "text",
    "id": "_Uun1MzfwpuC"
   },
   "source": [
    " ### Solution"
   ]
  },
  {
   "cell_type": "code",
   "execution_count": null,
   "metadata": {
    "colab": {},
    "colab_type": "code",
    "id": "MJeEgn6zZst0"
   },
   "outputs": [],
   "source": [
    "def q1_b(train_data):\n",
    "    \"\"\"\n",
    "    train_data: An (20000, 1) numpy array of floats in [-1, 1]\n",
    "\n",
    "    Returns\n",
    "    - a (# of training iterations,) numpy array of discriminator losses evaluated every minibatch\n",
    "    - a numpy array of size (5000,) of samples drawn from your model at epoch #1\n",
    "    - a numpy array of size (100,) linearly spaced from [-1, 1]; hint: np.linspace\n",
    "    - a numpy array of size (100,), corresponding to the discriminator output (after sigmoid) \n",
    "        at each location in the previous array at epoch #1\n",
    "\n",
    "    - a numpy array of size (5000,) of samples drawn from your model at the end of training\n",
    "    - a numpy array of size (1000,) linearly spaced from [-1, 1]; hint: np.linspace\n",
    "    - a numpy array of size (1000,), corresponding to the discriminator output (after sigmoid) \n",
    "        at each location in the previous array at the end of training\n",
    "    \"\"\"\n",
    "\n",
    "    \"\"\" YOUR CODE HERE \"\"\"\n",
    "    device = torch.device(\"cuda\" if torch.cuda.is_available() else \"cpu\")\n",
    "\n",
    "    batch_size = 64\n",
    "    epochs = 25\n",
    "    g_lr = 1e-4\n",
    "    d_lr = 1e-4\n",
    "\n",
    "    train_tensor = torch.tensor(train_data, dtype=torch.float32).to(device)\n",
    "    train_dataset = data.DataLoader(data.TensorDataset(train_tensor), batch_size=batch_size, shuffle=True)\n",
    "\n",
    "    generator = MLPG(input_dim=16, hidden_dim=128, output_dim=1).to(device)\n",
    "    discriminator = MLPD(input_dim=1, hidden_dim=128, output_dim=1).to(device)\n",
    "    g_optimizer = optim.Adam(generator.parameters(), lr=g_lr)\n",
    "    d_optimizer = optim.Adam(discriminator.parameters(), lr=d_lr)\n",
    "    criterion = nn.BCELoss()\n",
    "\n",
    "    d_losses = []\n",
    "\n",
    "    for epoch in range(epochs):\n",
    "        for real_data in train_dataset:\n",
    "            real_data = real_data[0].to(device)\n",
    "            noise = torch.randn(real_data.size(0), 16).to(device)\n",
    "            fake_data = generator(noise).detach()\n",
    "\n",
    "            d_optimizer.zero_grad()\n",
    "            d_real = discriminator(real_data)\n",
    "            d_fake = discriminator(fake_data)\n",
    "            real_labels = torch.ones_like(d_real).to(device)\n",
    "            # real_labels = torch.full_like(real_labels, 0.95)  # Label smoothing\n",
    "            fake_labels = torch.zeros_like(d_fake).to(device)\n",
    "            real_loss = criterion(d_real, real_labels)\n",
    "            fake_loss = criterion(d_fake, fake_labels)\n",
    "            d_loss = real_loss + fake_loss\n",
    "            d_losses.append(d_loss.item())\n",
    "            d_loss.backward()\n",
    "            d_optimizer.step()\n",
    "\n",
    "            g_optimizer.zero_grad()\n",
    "            noise = torch.randn(real_data.size(0), 16).to(device)\n",
    "            fake_data = generator(noise)\n",
    "            d_fake = discriminator(fake_data)\n",
    "            g_loss = -criterion(d_fake, fake_labels)\n",
    "            g_loss.backward()\n",
    "            g_optimizer.step()\n",
    "\n",
    "        if epoch == 0:\n",
    "            generator.eval()\n",
    "            discriminator.eval()\n",
    "            with torch.no_grad():\n",
    "                noise = torch.randn(5000, 16).to(device)\n",
    "                samples_epoch_1 = generator(noise).cpu().numpy().flatten()\n",
    "                x_epoch_1 = np.linspace(-1, 1, 1000, dtype=np.float32)\n",
    "                x_epoch_1_tensor = torch.tensor(x_epoch_1.reshape(-1, 1), dtype=torch.float32).to(device)\n",
    "                d_output_epoch_1 = discriminator(x_epoch_1_tensor).cpu().numpy().flatten()\n",
    "\n",
    "    generator.eval()\n",
    "    discriminator.eval()\n",
    "    with torch.no_grad():\n",
    "        noise = torch.randn(5000, 16).to(device)\n",
    "        samples_final_epoch = generator(noise).cpu().numpy().flatten()\n",
    "        x_final_epoch = np.linspace(-1, 1, 1000, dtype=np.float32)\n",
    "        x_final_epoch_tensor = torch.tensor(x_final_epoch.reshape(-1, 1), dtype=torch.float32).to(device)\n",
    "        d_output_final_epoch = discriminator(x_final_epoch_tensor).cpu().numpy().flatten()\n",
    "\n",
    "    return d_losses, samples_epoch_1, x_epoch_1, d_output_epoch_1, samples_final_epoch, x_final_epoch, d_output_final_epoch\n",
    "    "
   ]
  },
  {
   "cell_type": "markdown",
   "metadata": {
    "colab_type": "text",
    "id": "b0VSrZWzwrzT"
   },
   "source": [
    " ### Results"
   ]
  },
  {
   "cell_type": "code",
   "execution_count": null,
   "metadata": {
    "colab": {
     "base_uri": "https://localhost:8080/",
     "height": 857,
     "referenced_widgets": [
      "3b337528583e457d9ca5529bcd3f7556",
      "9cd2930872224e6cac62f44d5704356d",
      "60a25c6dcb4e479cbf78b9cd7e99b0bb",
      "05511dbeb45445feb6a19e6d4a646dd7",
      "4e327b20b01541da9b7696e88972374c",
      "a8222407a85947d6a0628370eaf07b1b",
      "c038f5951ff44ff5821db87bdc1e4705",
      "0c8606ff20f745cb926327f14f77a50d"
     ]
    },
    "colab_type": "code",
    "id": "xfv-DeVKwtXl",
    "outputId": "23e81986-b2c7-45cf-8d6c-eb6a53e125f0"
   },
   "outputs": [],
   "source": [
    "q1_save_results('b', q1_b)"
   ]
  },
  {
   "cell_type": "markdown",
   "metadata": {
    "colab_type": "text",
    "id": "sBESzChmEfcF"
   },
   "source": [
    "# Question 2: GANs on CIFAR-10 [35pt]"
   ]
  },
  {
   "cell_type": "markdown",
   "metadata": {
    "colab_type": "text",
    "id": "ZLRdpUxy5jc0"
   },
   "source": [
    "In this exercise, you will train a GAN on CIFAR-10. Execute the cell below to visualize the dataset. "
   ]
  },
  {
   "cell_type": "code",
   "execution_count": null,
   "metadata": {
    "colab": {
     "base_uri": "https://localhost:8080/",
     "height": 281
    },
    "colab_type": "code",
    "id": "-WbafudL5mnz",
    "outputId": "5d40faad-2897-4893-a9e4-a291af37dfdb"
   },
   "outputs": [],
   "source": [
    "visualize_q2_data()"
   ]
  },
  {
   "cell_type": "markdown",
   "metadata": {
    "colab_type": "text",
    "id": "vIYRnVafEkcd"
   },
   "source": [
    " We'll use the CIFAR-10 architecture from the [SN-GAN paper](https://arxiv.org/pdf/1802.05957.pdf) (see page 17), with $z \\in \\mathbb R ^{128}$, with $z \\sim \\mathcal N (0, I_{128})$. Instead of upsampling via transposed convolutions and downsampling via pooling or striding, we'll use these DepthToSpace and SpaceToDepth methods for changing the spatial configuration of our hidden states. \n",
    "\n",
    "```\n",
    "class DepthToSpace(nn.Module):\n",
    "    def __init__(self, block_size):\n",
    "        super().__init__()\n",
    "        self.block_size = block_size\n",
    "        self.block_size_sq = block_size * block_size\n",
    "\n",
    "    def forward(self, input):\n",
    "        output = input.permute(0, 2, 3, 1)\n",
    "        (batch_size, d_height, d_width, d_depth) = output.size()\n",
    "        s_depth = int(d_depth / self.block_size_sq)\n",
    "        s_width = int(d_width * self.block_size)\n",
    "        s_height = int(d_height * self.block_size)\n",
    "        t_1 = output.reshape(batch_size, d_height, d_width, self.block_size_sq, s_depth)\n",
    "        spl = t_1.split(self.block_size, 3)\n",
    "        stack = [t_t.reshape(batch_size, d_height, s_width, s_depth) for t_t in spl]\n",
    "        output = torch.stack(stack, 0).transpose(0, 1).permute(0, 2, 1, 3, 4).reshape(batch_size, s_height, s_width,\n",
    "                                                                                      s_depth)\n",
    "        output = output.permute(0, 3, 1, 2)\n",
    "        return output\n",
    "\n",
    "\n",
    "class SpaceToDepth(nn.Module):\n",
    "    def __init__(self, block_size):\n",
    "        super().__init__()\n",
    "        self.block_size = block_size\n",
    "        self.block_size_sq = block_size * block_size\n",
    "\n",
    "    def forward(self, input):\n",
    "        output = input.permute(0, 2, 3, 1)\n",
    "        (batch_size, s_height, s_width, s_depth) = output.size()\n",
    "        d_depth = s_depth * self.block_size_sq\n",
    "        d_width = int(s_width / self.block_size)\n",
    "        d_height = int(s_height / self.block_size)\n",
    "        t_1 = output.split(self.block_size, 2)\n",
    "        stack = [t_t.reshape(batch_size, d_height, d_depth) for t_t in t_1]\n",
    "        output = torch.stack(stack, 1)\n",
    "        output = output.permute(0, 2, 1, 3)\n",
    "        output = output.permute(0, 3, 1, 2)\n",
    "        return output\n",
    "\n",
    "# Spatial Upsampling with Nearest Neighbors\n",
    "Upsample_Conv2d(in_dim, out_dim, kernel_size=(3, 3), stride=1, padding=1):\n",
    "    x = torch.cat([x, x, x, x], dim=1)\n",
    "    DepthToSpace(block_size=2)\n",
    "    Conv2d(in_dim, out_dim, kernel_size, stride=stride, padding=padding)\n",
    "\n",
    "\n",
    "# Spatial Downsampling with Spatial Mean Pooling\n",
    "Downsample_Conv2d(in_dim, out_dim, kernel_size=(3, 3), stride=1, padding=1):\n",
    "        SpaceToDepth(2)\n",
    "        torch.sum(x.chunk(4, dim=1)) / 4.0\n",
    "        nn.Conv2d(in_dim, out_dim, kernel_size,\n",
    "                              stride=stride, padding=padding, bias=bias)\n",
    "```\n",
    "\n",
    "Here's pseudocode for how we'll implement a ResBlockUp, used in the generator:\n",
    "\n",
    "```\n",
    "ResnetBlockUp(x, in_dim, kernel_size=(3, 3), n_filters=256):\n",
    "    _x = x\n",
    "    _x = nn.BatchNorm2d(in_dim)(_x)\n",
    "    _x = nn.ReLU()(_x)\n",
    "    _x = nn.Conv2d(in_dim, n_filters, kernel_size, padding=1)(_x)\n",
    "    _x = nn.BatchNorm2d(n_filters)(_x)\n",
    "    _x = nn.ReLU()(_x)\n",
    "    residual = Upsample_Conv2d(n_filters, n_filters, kernel_size, padding=1)(_x)\n",
    "    shortcut = Upsample_Conv2d(in_dim, n_filters, kernel_size=(1, 1), padding=0)(x)\n",
    "    return residual + shortcut\n",
    "```\n",
    "The ResBlockDown module is similar, except it uses Downsample_Conv2d and omits the BatchNorm.\n",
    "\n",
    "Finally, here's the architecture for the generator:\n",
    "```\n",
    "def Generator(*, n_samples=1024, n_filters=128):\n",
    "    z = Normal(0, 1)([n_samples, 128])\n",
    "    nn.Linear(128, 4*4*256)\n",
    "    reshape output of linear layer\n",
    "    ResnetBlockUp(in_dim=256, n_filters=n_filters),\n",
    "    ResnetBlockUp(in_dim=n_filters, n_filters=n_filters),\n",
    "    ResnetBlockUp(in_dim=n_filters, n_filters=n_filters),\n",
    "    nn.BatchNorm2d(n_filters),\n",
    "    nn.ReLU(),\n",
    "    nn.Conv2d(n_filters, 3, kernel_size=(3, 3), padding=1),\n",
    "    nn.Tanh()\n",
    "```\n",
    "The discriminator (no BatchNorm!).\n",
    "```\n",
    "def Discriminator(*):\n",
    "    def __init__(self, n_filters=128):\n",
    "        ResnetBlockDown(3, n_filters=n_filters),\n",
    "        ResnetBlockDown(128, n_filters=n_filters),\n",
    "        ResBlock(n_filters, n_filters=n_filters),\n",
    "        ResBlock(n_filters, n_filters=n_filters),\n",
    "        nn.ReLU()\n",
    "        global sum pooling\n",
    "        nn.Linear(128, 1)\n",
    "```\n",
    "\n",
    "\n",
    "**Hyperparameters**\n",
    "\n",
    "We'll implement [WGAN-GP](https://arxiv.org/abs/1704.00028), which uses a gradient penalty to regularize the discriminator. Use the Adam optimizer with $\\alpha = 2e-4$, $\\beta_1 = 0$, $\\beta_2 = 0.9$, $\\lambda = 10$, $n_{critic} = 5$. Use a batch size of 256 and n_filters=128 within the ResBlocks. Train for at least 25000 gradient steps, with the learning rate linearly annealed to 0 over training. \n",
    "\n",
    "**You will provide the following deliverables**\n",
    "1. Inception score (CIFAR-10 version) of the final model. We provide a utility that will automatically do this for you.\n",
    "2. Fréchet inception distance (bonus, 5pts)\n",
    "3. Discriminator loss across training\n",
    "4. 100 samples. "
   ]
  },
  {
   "cell_type": "markdown",
   "metadata": {
    "colab_type": "text",
    "id": "WlY4YYyedBlR"
   },
   "source": [
    "## Solution"
   ]
  },
  {
   "cell_type": "markdown",
   "metadata": {
    "colab_type": "text",
    "id": "Zze30tQO7IjK"
   },
   "source": [
    " ### Models"
   ]
  },
  {
   "cell_type": "code",
   "execution_count": null,
   "metadata": {},
   "outputs": [],
   "source": [
    "class DepthToSpace(nn.Module):\n",
    "    def __init__(self, block_size):\n",
    "        super().__init__()\n",
    "        self.block_size = block_size\n",
    "        self.block_size_sq = block_size * block_size\n",
    "\n",
    "    def forward(self, input):\n",
    "        output = input.permute(0, 2, 3, 1)\n",
    "        (batch_size, d_height, d_width, d_depth) = output.size()\n",
    "        s_depth = int(d_depth / self.block_size_sq)\n",
    "        s_width = int(d_width * self.block_size)\n",
    "        s_height = int(d_height * self.block_size)\n",
    "        t_1 = output.reshape(batch_size, d_height, d_width, self.block_size_sq, s_depth)\n",
    "        spl = t_1.split(self.block_size, 3)\n",
    "        stack = [t_t.reshape(batch_size, d_height, s_width, s_depth) for t_t in spl]\n",
    "        output = torch.stack(stack, 0).transpose(0, 1).permute(0, 2, 1, 3, 4).reshape(batch_size, s_height, s_width, s_depth)\n",
    "        output = output.permute(0, 3, 1, 2)\n",
    "        return output"
   ]
  },
  {
   "cell_type": "code",
   "execution_count": null,
   "metadata": {
    "colab": {},
    "colab_type": "code",
    "id": "e8UX3mGtdB1A"
   },
   "outputs": [],
   "source": [
    "def q2(train_data):\n",
    "    \"\"\"\n",
    "    train_data: An (n_train, 3, 32, 32) numpy array of CIFAR-10 images with values in [0, 1]\n",
    "\n",
    "    Returns\n",
    "    - a (# of training iterations,) numpy array of WGAN critic train losses evaluated every minibatch\n",
    "    - a (1000, 32, 32, 3) numpy array of samples from your model in [0, 1]. \n",
    "        The first 100 will be displayed, and the rest will be used to calculate the Inception score. \n",
    "    \"\"\"\n",
    "\n",
    "    \"\"\" YOUR CODE HERE \"\"\"\n",
    "    device = torch.device(\"cuda\" if torch.cuda.is_available() else \"cpu\")\n",
    "    train_tensor = torch.tensor(train_data, dtype=torch.float32).permute(0, 2, 3, 1)  # (n_train, 32, 32, 3)\n",
    "    train_dataset = data.DataLoader(data.TensorDataset(train_tensor), batch_size=64, shuffle=True)\n",
    "    losses = []\n",
    "    samples = []\n",
    "\n",
    "    batch_size = 256\n",
    "    \n",
    "    return losses, samples"
   ]
  },
  {
   "cell_type": "markdown",
   "metadata": {
    "colab_type": "text",
    "id": "UydRmPpLdEar"
   },
   "source": [
    "## Results"
   ]
  },
  {
   "cell_type": "code",
   "execution_count": null,
   "metadata": {
    "colab": {
     "base_uri": "https://localhost:8080/",
     "height": 628
    },
    "colab_type": "code",
    "id": "uRgINbsJdbPH",
    "outputId": "59edfeb9-d990-4fb5-9ff3-510d09c64c7a"
   },
   "outputs": [],
   "source": [
    "q2_save_results(q2)"
   ]
  },
  {
   "cell_type": "markdown",
   "metadata": {},
   "source": [
    "# Question 3 : Quantization with GANS [40pt]\n",
    "In this question, you'll train a variants of the VQGAN model to learn a mapping between image and a discrete codebook. We will do this on the CIFAR10 dataset."
   ]
  },
  {
   "cell_type": "markdown",
   "metadata": {},
   "source": [
    "## Part a: Vanilla VQGAN [25]\n",
    "[VQGAN](https://github.com/CompVis/taming-transformers) extends the ideas from VQVAE by adding an additional GAN loss. Review HW 2 for more details on VQVAE, and may use your code from HW 2 (or HW2 solutions) to help with this question. Conceptually, the training procedure is the same as VQVAE, but with the addition of a discriminator network and its training.\n",
    "\n",
    "Following the original VQGAN paper, we will use a patch-based discriminator. Split the image into 8x8 patches, which will be then fed into the discriminator. For the discrimiator you can use an architecture similar to the one used in the previous questions.\n",
    "```\n",
    "def Discriminator(*, n_filters=128):\n",
    "    split to 8x8 patches\n",
    "    ResnetBlockDown(3, n_filters=n_filters),\n",
    "    ResnetBlockDown(128, n_filters=n_filters),\n",
    "    ResBlock(n_filters, n_filters=n_filters),\n",
    "    ResBlock(n_filters, n_filters=n_filters),\n",
    "    nn.ReLU()\n",
    "    global sum pooling\n",
    "    nn.Linear(128, 1)\n",
    "```\n",
    "\n",
    "**Loss function**\n",
    "We will use the loss function of\n",
    "\n",
    "$L = L_{VQ} + 0.1 L_{GAN} + 0.5 L_{perceptual} + L_2$\n",
    "\n",
    "Where $L_{VQ}$ is the VQ objective, $L_{GAN}$ is the GAN loss, $L_{perceptual}$ is the perceptual loss. \n",
    "\n",
    "For pytorch users, we provide the LPIPS loss from the original taming transformers paper ([found here](https://github.com/CompVis/taming-transformers/blob/master/taming/modules/losses/lpips.py)). An example of using the LPIPS loss is found below. If you are using a different framework, feel free to use any off the shelf code, just make sure to cite where you take it from.\n",
    "\n",
    "Instead of using the adaptive weight on the GAN loss, we will use a fixed weight of 0.1.\n",
    "* train for at least 15 epochs\n",
    "* use a codebook size of 1024\n",
    "* use Adam with betas=(0.5, 0.9) and 0 weight decay for both optimizers\n",
    "* use the non-saturating formulation of the GAN objective.\n",
    "\n",
    "**You will provide the following deliverables**\n",
    "1. Final L2 reconstruction loss\n",
    "2. Discriminator loss across training\n",
    "3. $L_{perceptual}$ loss across training\n",
    "4. Training l2 loss across training\n",
    "5. Validation l2 reconstruction loss across training, evaluated at the end of every epoch\n",
    "6. 100 reconstructions of the validation set."
   ]
  },
  {
   "cell_type": "code",
   "execution_count": null,
   "metadata": {},
   "outputs": [],
   "source": [
    "# example usage of the LPIPS loss\n",
    "from deepul.hw3_utils.lpips import LPIPS\n",
    "loss = LPIPS()\n",
    "x = torch.zeros(4, 3, 32, 32)\n",
    "print(loss(x, x).mean())"
   ]
  },
  {
   "cell_type": "code",
   "execution_count": null,
   "metadata": {},
   "outputs": [],
   "source": [
    "def q3a(train_data, val_data, reconstruct_data):\n",
    "    \"\"\"\n",
    "    train_data: An (n_train, 3, 32, 32) numpy array of CIFAR-10 images with values in [0, 1]\n",
    "    val_data: An (n_train, 3, 32, 32) numpy array of CIFAR-10 images with values in [0, 1]\n",
    "    reconstruct_data: An (100, 3, 32, 32) numpy array of CIFAR-10 images with values in [0, 1]. To be used for reconstruction\n",
    "\n",
    "    Returns\n",
    "    - a (# of training iterations,) numpy array of the discriminator train losses evaluated every minibatch\n",
    "    - None or a (# of training iterations,) numpy array of the perceptual train losses evaluated every minibatch\n",
    "    - a (# of training iterations,) numpy array of the l2 reconstruction evaluated every minibatch\n",
    "    - a (# of epochs + 1,) numpy array of l2 reconstruction loss evaluated once at initialization and after each epoch on the val_data\n",
    "    - a (100, 32, 32, 3) numpy array of reconstructions from your model in [0, 1] on the reconstruct_data.  \n",
    "    \"\"\"\n",
    "\n",
    "    \"\"\" YOUR CODE HERE \"\"\"\n",
    "\n",
    "    return discriminator_losses, l_pips_losses, l2_recon_train, l2_recon_test, reconstructions"
   ]
  },
  {
   "cell_type": "code",
   "execution_count": null,
   "metadata": {},
   "outputs": [],
   "source": [
    "q3_save_results(q3a, \"a\") # with pips"
   ]
  },
  {
   "cell_type": "markdown",
   "metadata": {},
   "source": [
    "## Part b: VIT-VQGAN [15]\n",
    "In this part, you will replace the encoder and decoder in the VQGAN with a Vision Transformer (ViT) following the [Improved VQGAN paper](https://arxiv.org/abs/2110.04627). You may use pre-built ViT modules and/or transformers libraries for the purposes of this exercise. Split images into 4x4 patches which should give you 8x8 patches for each image.\n",
    "\n",
    "**Discriminator**\n",
    "In ViT-VQGAN, the patch-based discriminator is replaced with a full StyleGAN discriminator. For the purposes of this exercise, you should use the same discrimiator as described in part a but without splitting into patches. In addition add [spectral normalization](https://pytorch.org/docs/stable/generated/torch.nn.utils.spectral_norm.html#torch-nn-utils-spectral-norm) to all the conv and linear layers and use LeakyReLU instead of ReLU, following [SN-GANs](https://arxiv.org/abs/1802.05957). This is to help with training stability.\n",
    "```\n",
    "def Discriminator(*, n_filters=128):\n",
    "    # all conv layers in the ResBlocks should have spectral normalization\n",
    "    ResnetBlockDown(3, n_filters=n_filters),\n",
    "    ResnetBlockDown(128, n_filters=n_filters),\n",
    "    ResBlock(n_filters, n_filters=n_filters),\n",
    "    ResBlock(n_filters, n_filters=n_filters),\n",
    "    nn.LeakyReLU()\n",
    "    global sum pooling\n",
    "    nn.Linear(128, 1)\n",
    "```\n",
    "* in addition add \n",
    "\n",
    "**Loss function**\n",
    "$L = L_{VQ} + 0.1 L_{GAN} + \\alpha L_{perceptual} + L_2 + 0.1 L_1$\n",
    "\n",
    "The ViT-VQGAN paper introduces a new loss term $L_{Logit\\_laplace}$ which is a logit laplace loss. For simplicity, we will use an L1 loss instead.\n",
    "\n",
    "If you implemented the perceptual loss in the previous part, you can use the same perceptual loss here, otherwise you may keep $\\alpha = 0$.\n",
    "\n",
    "\n",
    "You should be able to largely be able to reuse your implementations in the previous part for this problem\n",
    "The only 3 updates you need are:\n",
    "* use ViT for encoder and decoder of VQVAE, use 4 layers, 8 heads, and 256 for the embedding size \n",
    "* add L1 loss\n",
    "* change the discrimiator to look at the full image\n",
    "\n",
    "**You will provide the following deliverables**\n",
    "1. Final L2 reconstruction loss\n",
    "2. Discriminator loss across training\n",
    "3. $L_{perceptual}$ loss across training\n",
    "4. Training l2 loss across training\n",
    "5. Validation l2 reconstruction loss across training, evaluated at the end of every epoch\n",
    "6. 100 reconstructions of the validation set.\n"
   ]
  },
  {
   "cell_type": "code",
   "execution_count": null,
   "metadata": {},
   "outputs": [],
   "source": [
    "def q3b(train_data, val_data, reconstruct_data):\n",
    "    \"\"\"\n",
    "    train_data: An (n_train, 3, 32, 32) numpy array of CIFAR-10 images with values in [0, 1]\n",
    "    val_data: An (n_train, 3, 32, 32) numpy array of CIFAR-10 images with values in [0, 1]\n",
    "    reconstruct_data: An (100, 3, 32, 32) numpy array of CIFAR-10 images with values in [0, 1]. To be used for reconstruction\n",
    "\n",
    "    Returns\n",
    "    - a (# of training iterations,) numpy array of the discriminator train losses evaluated every minibatch\n",
    "    - None or a (# of training iterations,) numpy array of the perceptual train losses evaluated every minibatch\n",
    "    - a (# of training iterations,) numpy array of the l2 reconstruction evaluated every minibatch\n",
    "    - a (# of epochs + 1,) numpy array of l2 reconstruction loss evaluated once at initialization and after each epoch on the val_data\n",
    "    - a (100, 32, 32, 3) numpy array of reconstructions from your model in [0, 1] on the reconstruct_data.  \n",
    "    \"\"\"\n",
    "\n",
    "    \"\"\" YOUR CODE HERE \"\"\"\n",
    "\n",
    "    return discriminator_losses, l_pips_losses, l2_recon_train, l2_recon_test, reconstructions"
   ]
  },
  {
   "cell_type": "code",
   "execution_count": null,
   "metadata": {},
   "outputs": [],
   "source": [
    "q3_save_results(q3b, \"b\")"
   ]
  },
  {
   "cell_type": "markdown",
   "metadata": {
    "colab_type": "text",
    "id": "92f0jUFadqml"
   },
   "source": [
    "# Question 4 (Bonus): CycleGAN [20pt]\n",
    "In this question, you'll train a CycleGAN model to learn to translate between two different image domains, without any paired data. Execute the following cell to visualize our two datasets: MNIST and Colored MNIST. "
   ]
  },
  {
   "cell_type": "code",
   "execution_count": null,
   "metadata": {
    "colab": {
     "base_uri": "https://localhost:8080/",
     "height": 511
    },
    "colab_type": "code",
    "id": "Y3qFm_JfObPj",
    "outputId": "c7d6fec3-86ed-42c7-a0fc-38a75322e02f"
   },
   "outputs": [],
   "source": [
    "visualize_cyclegan_datasets()"
   ]
  },
  {
   "cell_type": "markdown",
   "metadata": {
    "colab_type": "text",
    "id": "0Za8w7ddOdh7"
   },
   "source": [
    "In [CycleGAN](https://arxiv.org/pdf/1703.10593.pdf), the goal is to learn functions $F$ and $G$ that can transform images from $X \\rightarrow Y$ and vice-versa. This is an unconstrained problem, so we additionally enforce the *cycle-consistency* property, where we want \n",
    "$$x \\approx G(F(x))$$\n",
    "and  \n",
    "$$y \\approx F(G(x))$$\n",
    "This loss function encourages $F$ and $G$ to approximately invert each other. In addition to this cycle-consistency loss, we also have a standard GAN loss such that $F(x)$ and $G(y)$ look like real images from the other domain. \n",
    "\n",
    "Since this is a bonus question, we won't do much hand-holding. We recommend reading through the original paper to get a sense of what architectures and hyperparameters are useful. Note that our datasets are fairly simple, so you won't need excessively large models. \n",
    "\n",
    "**You will report the following deliverables**\n",
    "1. A set of images showing real MNIST digits, transformations of those images into Colored MNIST digits, and reconstructions back into the greyscale domain. \n",
    "2. A set of images showing real Colored MNIST digits, transformations of those images, and reconstructions. "
   ]
  },
  {
   "cell_type": "markdown",
   "metadata": {
    "colab_type": "text",
    "id": "8adRfm9vPnen"
   },
   "source": [
    "## Solution"
   ]
  },
  {
   "cell_type": "code",
   "execution_count": null,
   "metadata": {
    "colab": {},
    "colab_type": "code",
    "id": "B99F5FjbPqtl"
   },
   "outputs": [],
   "source": [
    "def q4(mnist_data, cmnist_data):\n",
    "    \"\"\"\n",
    "    mnist_data: An (60000, 1, 28, 28) numpy array of black and white images with values in [0, 1]\n",
    "    cmnist_data: An (60000, 3, 28, 28) numpy array of colored images with values in [0, 1]\n",
    "\n",
    "    Returns\n",
    "    - a (20, 28, 28, 1) numpy array of real MNIST digits, in [0, 1]\n",
    "    - a (20, 28, 28, 3) numpy array of translated Colored MNIST digits, in [0, 1]\n",
    "    - a (20, 28, 28, 1) numpy array of reconstructed MNIST digits, in [0, 1]\n",
    "\n",
    "    - a (20, 28, 28, 3) numpy array of real Colored MNIST digits, in [0, 1]\n",
    "    - a (20, 28, 28, 1) numpy array of translated MNIST digits, in [0, 1]\n",
    "    - a (20, 28, 28, 3) numpy array of reconstructed Colored MNIST digits, in [0, 1]\n",
    "    \"\"\"\n",
    "    \"\"\" YOUR CODE HERE \"\"\""
   ]
  },
  {
   "cell_type": "markdown",
   "metadata": {
    "colab_type": "text",
    "id": "NIO0hzZ8PpPr"
   },
   "source": [
    "## Results"
   ]
  },
  {
   "cell_type": "code",
   "execution_count": null,
   "metadata": {
    "colab": {
     "base_uri": "https://localhost:8080/",
     "height": 203
    },
    "colab_type": "code",
    "id": "-hlvbDvUOxp6",
    "outputId": "d30ae0d8-1292-4557-fd7f-9d8b08009590"
   },
   "outputs": [],
   "source": [
    "q4_save_results(q4)"
   ]
  }
 ],
 "metadata": {
  "accelerator": "GPU",
  "colab": {
   "collapsed_sections": [],
   "name": "HW4 GANs (solutions).ipynb",
   "provenance": []
  },
  "kernelspec": {
   "display_name": "deepul-env",
   "language": "python",
   "name": "python3"
  },
  "language_info": {
   "codemirror_mode": {
    "name": "ipython",
    "version": 3
   },
   "file_extension": ".py",
   "mimetype": "text/x-python",
   "name": "python",
   "nbconvert_exporter": "python",
   "pygments_lexer": "ipython3",
   "version": "3.8.20"
  }
 },
 "nbformat": 4,
 "nbformat_minor": 4
}
